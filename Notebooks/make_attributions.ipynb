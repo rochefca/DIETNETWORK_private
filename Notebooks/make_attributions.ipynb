{
 "cells": [
  {
   "cell_type": "code",
   "execution_count": 1,
   "metadata": {},
   "outputs": [],
   "source": [
    "import sys\n",
    "from pathlib import Path\n",
    "import os\n",
    "import h5py\n",
    "\n",
    "import torch\n",
    "\n",
    "sys.path.append(\"Dietnet/\")\n",
    "from Dietnet.make_attributions import load_data, load_model\n",
    "from Dietnet.helpers import dataset_utils as du\n",
    "from Dietnet.Interpretability import attribution_manager as am\n",
    "from Dietnet.helpers import mainloop_utils as mlu\n",
    "\n",
    "os.environ[\"CUDA_VISIBLE_DEVICES\"] = \"0,1,2\""
   ]
  },
  {
   "cell_type": "markdown",
   "metadata": {},
   "source": [
    "## Get Attributions for PyTorch Model"
   ]
  },
  {
   "cell_type": "code",
   "execution_count": 2,
   "metadata": {},
   "outputs": [
    {
     "name": "stdout",
     "output_type": "stream",
     "text": [
      "3 GPUs detected! Running in DataParallel mode\n"
     ]
    }
   ],
   "source": [
    "which_fold = 0\n",
    "seed = 23\n",
    "train_valid_ratio = 0.75\n",
    "batch_size = 24\n",
    "\n",
    "exp_path = Path('/home/rochefortc/shared_disk_wd4tb/rochefortc/Dietnetwork/Dietnet2/1000G_EXP/EXP01_2020.07')\n",
    "exp_folder = 'REPRODUCE_2020.07'\n",
    "full_path = exp_path / exp_folder / '{}_fold{}'.format(exp_folder, which_fold)\n",
    "model_path =  full_path / 'model_params.pt'\n",
    "\n",
    "dataset = 'dataset.npz'\n",
    "embedding = 'embedding.npz'\n",
    "folds_indexes = 'folds_indexes.npz'\n",
    "\n",
    "device = torch.device('cuda:0')\n",
    "\n",
    "# Load embedding\n",
    "emb = du.load_embedding(os.path.join(exp_path, embedding), which_fold)\n",
    "emb = emb.to(device)\n",
    "emb = emb.float()\n",
    "\n",
    "# Normalize embedding\n",
    "emb_norm = (emb ** 2).sum(0) ** 0.5\n",
    "emb = emb/emb_norm\n",
    "\n",
    "# Instantiate model\n",
    "n_feats_emb = emb.size()[1] # input of aux net\n",
    "n_feats = emb.size()[0] # input of main net\n",
    "\n",
    "\n",
    "# Hidden layers size\n",
    "n_hidden_u = 100\n",
    "n_hidden1_u = 100\n",
    "n_hidden2_u = 100\n",
    "# Output layer\n",
    "n_targets = 26\n",
    "input_dropout = 0.\n",
    "\n",
    "disc_net = load_model(model_path, emb, device, n_feats_emb, n_hidden_u, n_hidden1_u,  n_hidden2_u, n_targets, input_dropout, incl_bias=True, incl_softmax=True)\n",
    "test_generator, x_test = load_data(exp_path, dataset, folds_indexes, which_fold, seed, train_valid_ratio, device, batch_size)"
   ]
  },
  {
   "cell_type": "code",
   "execution_count": 3,
   "metadata": {},
   "outputs": [
    {
     "name": "stdout",
     "output_type": "stream",
     "text": [
      "initialized attribution_function. You can call `create_attributions` method once you set model and data_generator\n"
     ]
    }
   ],
   "source": [
    "attr_manager = am.AttributionManager()\n",
    "\n",
    "attr_manager.set_model(disc_net)\n",
    "attr_manager.init_attribution_function(attr_type='int_grad', backend='captum')\n",
    "# attr_manager.init_attribution_function(attr_type='int_grad', backend='custom')\n",
    "attr_manager.set_data_generator(test_generator)\n",
    "attr_manager.set_genotypes_data(x_test)\n",
    "attr_manager.set_raw_attributions_file(os.path.join(full_path, 'attrs_true_2.h5')) #'attrs_w_softmax.h5'))\n",
    "attr_manager.set_device(device)"
   ]
  },
  {
   "cell_type": "code",
   "execution_count": 4,
   "metadata": {},
   "outputs": [
    {
     "name": "stdout",
     "output_type": "stream",
     "text": [
      "completed 24/690 [3.478261%]\n",
      "completed 48/690 [6.956522%]\n",
      "completed 72/690 [10.434783%]\n",
      "completed 96/690 [13.913043%]\n",
      "completed 120/690 [17.391304%]\n",
      "completed 144/690 [20.869565%]\n",
      "completed 168/690 [24.347826%]\n",
      "completed 192/690 [27.826087%]\n",
      "completed 216/690 [31.304348%]\n",
      "completed 240/690 [34.782609%]\n",
      "completed 264/690 [38.260870%]\n",
      "completed 288/690 [41.739130%]\n",
      "completed 312/690 [45.217391%]\n",
      "completed 336/690 [48.695652%]\n",
      "completed 360/690 [52.173913%]\n",
      "completed 384/690 [55.652174%]\n",
      "completed 408/690 [59.130435%]\n",
      "completed 432/690 [62.608696%]\n",
      "completed 456/690 [66.086957%]\n",
      "completed 480/690 [69.565217%]\n",
      "completed 504/690 [73.043478%]\n",
      "completed 528/690 [76.521739%]\n",
      "completed 552/690 [80.000000%]\n",
      "completed 576/690 [83.478261%]\n",
      "completed 600/690 [86.956522%]\n",
      "completed 624/690 [90.434783%]\n",
      "completed 648/690 [93.913043%]\n",
      "completed 672/690 [97.391304%]\n",
      "completed 690/690 [100.000000%]\n",
      "saved attributions to /home/rochefortc/shared_disk_wd4tb/rochefortc/Dietnetwork/Dietnet2/1000G_EXP/EXP01_2020.07/REPRODUCE_2020.07/REPRODUCE_2020.07_fold0/attrs_true_2.h5\n"
     ]
    }
   ],
   "source": [
    "# baseline is 0s, ran for 100 iterations method=\"riemann_right\"\n",
    "# default 50 iterations, method=\"gausslegendre\"\n",
    "\n",
    "#  Make true 0 baseline\n",
    "baseline = test_generator.dataset.xs.min(0).values.view(1,-1)\n",
    "#baseline = test_generator.dataset.xs.max(0).values.view(1,-1)\n",
    "#baseline = torch.zeros(1, x_test[0].shape[0]).to(device)\n",
    "\n",
    "attr_manager.create_raw_attributions(False, \n",
    "                                     only_true_labels=False,\n",
    "                                     n_steps=100, \n",
    "                                     method='riemann_left',\n",
    "                                     baselines=baseline)"
   ]
  },
  {
   "cell_type": "code",
   "execution_count": 5,
   "metadata": {},
   "outputs": [
    {
     "name": "stdout",
     "output_type": "stream",
     "text": [
      "completed 0/690 [0.000000%]\n",
      "completed 20/690 [2.898551%]\n",
      "completed 40/690 [5.797101%]\n",
      "completed 60/690 [8.695652%]\n",
      "completed 80/690 [11.594203%]\n",
      "completed 100/690 [14.492754%]\n",
      "completed 120/690 [17.391304%]\n",
      "completed 140/690 [20.289855%]\n",
      "completed 160/690 [23.188406%]\n",
      "completed 180/690 [26.086957%]\n",
      "completed 200/690 [28.985507%]\n",
      "completed 220/690 [31.884058%]\n",
      "completed 240/690 [34.782609%]\n",
      "completed 260/690 [37.681159%]\n",
      "completed 280/690 [40.579710%]\n",
      "completed 300/690 [43.478261%]\n",
      "completed 320/690 [46.376812%]\n",
      "completed 340/690 [49.275362%]\n",
      "completed 360/690 [52.173913%]\n",
      "completed 380/690 [55.072464%]\n",
      "completed 400/690 [57.971014%]\n",
      "completed 420/690 [60.869565%]\n",
      "completed 440/690 [63.768116%]\n",
      "completed 460/690 [66.666667%]\n",
      "completed 480/690 [69.565217%]\n",
      "completed 500/690 [72.463768%]\n",
      "completed 520/690 [75.362319%]\n",
      "completed 540/690 [78.260870%]\n",
      "completed 560/690 [81.159420%]\n",
      "completed 580/690 [84.057971%]\n",
      "completed 600/690 [86.956522%]\n",
      "completed 620/690 [89.855072%]\n",
      "completed 640/690 [92.753623%]\n",
      "completed 660/690 [95.652174%]\n",
      "completed 680/690 [98.550725%]\n",
      "attr avg saved to /home/rochefortc/shared_disk_wd4tb/rochefortc/Dietnetwork/Dietnet2/1000G_EXP/EXP01_2020.07/REPRODUCE_2020.07/REPRODUCE_2020.07_fold0/attrs_avg_true_2.h5\n"
     ]
    }
   ],
   "source": [
    "#  compute attribution average\n",
    "out = attr_manager.get_attribution_average(False)\n",
    "\n",
    "with h5py.File(full_path / 'attrs_avg_true_2.h5', 'w') as hf: # 'attrs_w_softmax_avg.h5'\n",
    "    hf['avg_attr'] = out.cpu().numpy()\n",
    "print('attr avg saved to {}'.format(full_path / 'attrs_avg_true_2.h5')) #'attrs_w_softmax_avg.h5'))"
   ]
  },
  {
   "cell_type": "markdown",
   "metadata": {},
   "source": [
    "##  Computing Other kinds of Attributions"
   ]
  },
  {
   "cell_type": "code",
   "execution_count": null,
   "metadata": {},
   "outputs": [],
   "source": [
    "#  you can change the attr_type as well!\n",
    "attr_manager.init_attribution_function(attr_type='saliency', backend='captum')\n",
    "attr_saliency = attr_manager.attr_func.attribute(inputs=(input_batch.to(attr_manager.device)), target=target_batch.to(attr_manager.device), abs=False)\n",
    "attr_saliency = attr_saliency.cpu().numpy()"
   ]
  },
  {
   "cell_type": "markdown",
   "metadata": {},
   "source": [
    "##  Computing Attribution for Theano Model"
   ]
  },
  {
   "cell_type": "code",
   "execution_count": null,
   "metadata": {},
   "outputs": [],
   "source": [
    "which_fold = 0\n",
    "seed = 23\n",
    "train_valid_ratio = 0.75\n",
    "\n",
    "exp_path = Path('/home/rochefortc/shared_disk_wd4tb/rochefortc/Dietnetwork/Dietnet2/1000G_EXP/EXP01_2020.07')\n",
    "exp_folder = 'REPRODUCE_2020.07'\n",
    "full_path = exp_path / exp_folder / '{}_fold{}'.format(exp_folder, which_fold)\n",
    "\n",
    "#  open theano files\n",
    "theano_dir = Path('/home/rochefortc/shared_disk_wd4tb/rochefortc/Dietnetwork/1000G_EXP/EXP02_2_2019.09/final_models/1000_genomes/' +\n",
    "                  '1000G_2__our_model1.0_lr-3e-05_anneal-0.999_eni-0.02_dni-0.02_accuracy_BN-1_Inpdrp-1.0_EmbNoise-0.0_decmode-regression_hu-100_tenc-100-100_tdec-100-100_hs-100_fold0')\n",
    "theano_attrs_fname = theano_dir / 'additional_data.npz'\n",
    "theano_model_fname = theano_dir / 'dietnet_best.npz'\n",
    "\n",
    "dataset = 'dataset.npz'\n",
    "embedding = 'embedding.npz'\n",
    "folds_indexes = 'folds_indexes.npz'\n",
    "\n",
    "device = torch.device('cuda:0')\n",
    "\n",
    "# Load embedding\n",
    "emb = du.load_embedding(os.path.join(exp_path, embedding), which_fold)\n",
    "emb = emb.to(device)\n",
    "emb = emb.float()\n",
    "\n",
    "# Normalize embedding\n",
    "emb_norm = (emb ** 2).sum(0) ** 0.5\n",
    "emb = emb/emb_norm\n",
    "\n",
    "# Instantiate model\n",
    "n_feats_emb = emb.size()[1] # input of aux net\n",
    "n_feats = emb.size()[0] # input of main net\n",
    "\n",
    "# Hidden layers size\n",
    "emb_n_hidden_u = 100\n",
    "discrim_n_hidden1_u = 100\n",
    "discrim_n_hidden2_u = 100\n",
    "# Output layer\n",
    "n_targets = 26\n",
    "input_dropout = 0.\n",
    "\n",
    "disc_net = mlu.load_theano_model(n_feats_emb, emb_n_hidden_u, discrim_n_hidden1_u, discrim_n_hidden2_u, n_targets, theano_model_fname, device, only_discrim_model=True)\n",
    "test_generator, x_test = load_data(exp_path, dataset, folds_indexes, which_fold, seed, train_valid_ratio, device)"
   ]
  },
  {
   "cell_type": "code",
   "execution_count": null,
   "metadata": {},
   "outputs": [],
   "source": [
    "attr_manager = am.AttributionManager()\n",
    "\n",
    "attr_manager.set_model(disc_net)\n",
    "attr_manager.init_attribution_function(attr_type='int_grad', backend='captum')\n",
    "# attr_manager.init_attribution_function(attr_type='int_grad', backend='custom')\n",
    "attr_manager.set_data_generator(test_generator)\n",
    "attr_manager.set_genotypes_data(x_test)\n",
    "attr_manager.set_raw_attributions_file(os.path.join(theano_dir, 'attrs_theano.h5'))\n",
    "attr_manager.set_device(device)"
   ]
  },
  {
   "cell_type": "code",
   "execution_count": null,
   "metadata": {},
   "outputs": [],
   "source": [
    "#  ensures the same!\n",
    "\"\"\"\n",
    "attr_manager.model(test_generator.dataset.xs[0:1])\n",
    "import numpy as np\n",
    "with np.load(theano_attrs_fname, allow_pickle=True, encoding='bytes') as adata:\n",
    "    print(adata.files)\n",
    "    test_scores = adata['test_scores']\n",
    "    test_preds = adata['test_predictions']\n",
    "print(test_scores[0])\n",
    "\"\"\""
   ]
  },
  {
   "cell_type": "code",
   "execution_count": null,
   "metadata": {},
   "outputs": [],
   "source": [
    "baseline = torch.zeros(1, x_test[0].shape[0]).to(device)\n",
    "\n",
    "attr_manager.create_raw_attributions(False, \n",
    "                                     only_true_labels=False,\n",
    "                                     baselines=baseline,\n",
    "                                     n_steps=100, \n",
    "                                     method='riemann_left')"
   ]
  },
  {
   "cell_type": "code",
   "execution_count": null,
   "metadata": {},
   "outputs": [],
   "source": [
    "out = attr_manager.get_attribution_average()\n",
    "with h5py.File(os.path.join(theano_dir, 'attrs_theano_avg.h5'), 'w') as hf:\n",
    "    hf['avg_attr'] = out.cpu().numpy()"
   ]
  }
 ],
 "metadata": {
  "kernelspec": {
   "display_name": "Python (dietnetwork)",
   "language": "python",
   "name": "dietnetwork"
  },
  "language_info": {
   "codemirror_mode": {
    "name": "ipython",
    "version": 3
   },
   "file_extension": ".py",
   "mimetype": "text/x-python",
   "name": "python",
   "nbconvert_exporter": "python",
   "pygments_lexer": "ipython3",
   "version": "3.6.10"
  }
 },
 "nbformat": 4,
 "nbformat_minor": 4
}
